{
 "cells": [
  {
   "cell_type": "code",
   "execution_count": 65,
   "id": "28726150",
   "metadata": {},
   "outputs": [],
   "source": [
    "import pandas as pd\n",
    "import numpy as np\n",
    "import seaborn as sns\n",
    "import matplotlib.pyplot as plt\n",
    "from sklearn.model_selection import train_test_split\n",
    "from sklearn.preprocessing import StandardScaler\n",
    "from sklearn.metrics import (\n",
    "    classification_report,\n",
    "    roc_auc_score,\n",
    "    roc_curve,\n",
    "    auc,\n",
    "    precision_recall_curve,\n",
    "    confusion_matrix,\n",
    "    precision_score,\n",
    "    recall_score,\n",
    "    f1_score,\n",
    "    ConfusionMatrixDisplay\n",
    ")\n"
   ]
  },
  {
   "cell_type": "code",
   "execution_count": 66,
   "id": "60ab2675",
   "metadata": {},
   "outputs": [],
   "source": [
    "df = pd.read_csv('Loan_Default.csv')"
   ]
  },
  {
   "cell_type": "code",
   "execution_count": 67,
   "id": "e106e18c",
   "metadata": {},
   "outputs": [],
   "source": [
    "df.drop(columns=['age','ID', 'loan_type', 'Credit_Worthiness', 'lump_sum_payment', 'Gender', 'construction_type', 'Secured_by', 'total_units', \n",
    "                 'credit_type', 'co-applicant_credit_type', 'Region', 'year', \n",
    "                 'submission_of_application', 'loan_purpose','open_credit', 'Security_Type'], \n",
    "        inplace=True)\n"
   ]
  },
  {
   "cell_type": "code",
   "execution_count": 68,
   "id": "7d171b8d",
   "metadata": {},
   "outputs": [
    {
     "data": {
      "text/html": [
       "<div>\n",
       "<style scoped>\n",
       "    .dataframe tbody tr th:only-of-type {\n",
       "        vertical-align: middle;\n",
       "    }\n",
       "\n",
       "    .dataframe tbody tr th {\n",
       "        vertical-align: top;\n",
       "    }\n",
       "\n",
       "    .dataframe thead th {\n",
       "        text-align: right;\n",
       "    }\n",
       "</style>\n",
       "<table border=\"1\" class=\"dataframe\">\n",
       "  <thead>\n",
       "    <tr style=\"text-align: right;\">\n",
       "      <th></th>\n",
       "      <th>loan_amount</th>\n",
       "      <th>rate_of_interest</th>\n",
       "      <th>Interest_rate_spread</th>\n",
       "      <th>Upfront_charges</th>\n",
       "      <th>term</th>\n",
       "      <th>property_value</th>\n",
       "      <th>income</th>\n",
       "      <th>Credit_Score</th>\n",
       "      <th>LTV</th>\n",
       "      <th>Status</th>\n",
       "      <th>dtir1</th>\n",
       "    </tr>\n",
       "  </thead>\n",
       "  <tbody>\n",
       "    <tr>\n",
       "      <th>count</th>\n",
       "      <td>1.486700e+05</td>\n",
       "      <td>112231.000000</td>\n",
       "      <td>112031.000000</td>\n",
       "      <td>109028.000000</td>\n",
       "      <td>148629.000000</td>\n",
       "      <td>1.335720e+05</td>\n",
       "      <td>139520.000000</td>\n",
       "      <td>148670.000000</td>\n",
       "      <td>133572.000000</td>\n",
       "      <td>148670.000000</td>\n",
       "      <td>124549.000000</td>\n",
       "    </tr>\n",
       "    <tr>\n",
       "      <th>mean</th>\n",
       "      <td>3.311177e+05</td>\n",
       "      <td>4.045476</td>\n",
       "      <td>0.441656</td>\n",
       "      <td>3224.996127</td>\n",
       "      <td>335.136582</td>\n",
       "      <td>4.978935e+05</td>\n",
       "      <td>6957.338876</td>\n",
       "      <td>699.789103</td>\n",
       "      <td>72.746457</td>\n",
       "      <td>0.246445</td>\n",
       "      <td>37.732932</td>\n",
       "    </tr>\n",
       "    <tr>\n",
       "      <th>std</th>\n",
       "      <td>1.839093e+05</td>\n",
       "      <td>0.561391</td>\n",
       "      <td>0.513043</td>\n",
       "      <td>3251.121510</td>\n",
       "      <td>58.409084</td>\n",
       "      <td>3.599353e+05</td>\n",
       "      <td>6496.586382</td>\n",
       "      <td>115.875857</td>\n",
       "      <td>39.967603</td>\n",
       "      <td>0.430942</td>\n",
       "      <td>10.545435</td>\n",
       "    </tr>\n",
       "    <tr>\n",
       "      <th>min</th>\n",
       "      <td>1.650000e+04</td>\n",
       "      <td>0.000000</td>\n",
       "      <td>-3.638000</td>\n",
       "      <td>0.000000</td>\n",
       "      <td>96.000000</td>\n",
       "      <td>8.000000e+03</td>\n",
       "      <td>0.000000</td>\n",
       "      <td>500.000000</td>\n",
       "      <td>0.967478</td>\n",
       "      <td>0.000000</td>\n",
       "      <td>5.000000</td>\n",
       "    </tr>\n",
       "    <tr>\n",
       "      <th>25%</th>\n",
       "      <td>1.965000e+05</td>\n",
       "      <td>3.625000</td>\n",
       "      <td>0.076000</td>\n",
       "      <td>581.490000</td>\n",
       "      <td>360.000000</td>\n",
       "      <td>2.680000e+05</td>\n",
       "      <td>3720.000000</td>\n",
       "      <td>599.000000</td>\n",
       "      <td>60.474860</td>\n",
       "      <td>0.000000</td>\n",
       "      <td>31.000000</td>\n",
       "    </tr>\n",
       "    <tr>\n",
       "      <th>50%</th>\n",
       "      <td>2.965000e+05</td>\n",
       "      <td>3.990000</td>\n",
       "      <td>0.390400</td>\n",
       "      <td>2596.450000</td>\n",
       "      <td>360.000000</td>\n",
       "      <td>4.180000e+05</td>\n",
       "      <td>5760.000000</td>\n",
       "      <td>699.000000</td>\n",
       "      <td>75.135870</td>\n",
       "      <td>0.000000</td>\n",
       "      <td>39.000000</td>\n",
       "    </tr>\n",
       "    <tr>\n",
       "      <th>75%</th>\n",
       "      <td>4.365000e+05</td>\n",
       "      <td>4.375000</td>\n",
       "      <td>0.775400</td>\n",
       "      <td>4812.500000</td>\n",
       "      <td>360.000000</td>\n",
       "      <td>6.280000e+05</td>\n",
       "      <td>8520.000000</td>\n",
       "      <td>800.000000</td>\n",
       "      <td>86.184211</td>\n",
       "      <td>0.000000</td>\n",
       "      <td>45.000000</td>\n",
       "    </tr>\n",
       "    <tr>\n",
       "      <th>max</th>\n",
       "      <td>3.576500e+06</td>\n",
       "      <td>8.000000</td>\n",
       "      <td>3.357000</td>\n",
       "      <td>60000.000000</td>\n",
       "      <td>360.000000</td>\n",
       "      <td>1.650800e+07</td>\n",
       "      <td>578580.000000</td>\n",
       "      <td>900.000000</td>\n",
       "      <td>7831.250000</td>\n",
       "      <td>1.000000</td>\n",
       "      <td>61.000000</td>\n",
       "    </tr>\n",
       "  </tbody>\n",
       "</table>\n",
       "</div>"
      ],
      "text/plain": [
       "        loan_amount  rate_of_interest  Interest_rate_spread  Upfront_charges  \\\n",
       "count  1.486700e+05     112231.000000         112031.000000    109028.000000   \n",
       "mean   3.311177e+05          4.045476              0.441656      3224.996127   \n",
       "std    1.839093e+05          0.561391              0.513043      3251.121510   \n",
       "min    1.650000e+04          0.000000             -3.638000         0.000000   \n",
       "25%    1.965000e+05          3.625000              0.076000       581.490000   \n",
       "50%    2.965000e+05          3.990000              0.390400      2596.450000   \n",
       "75%    4.365000e+05          4.375000              0.775400      4812.500000   \n",
       "max    3.576500e+06          8.000000              3.357000     60000.000000   \n",
       "\n",
       "                term  property_value         income   Credit_Score  \\\n",
       "count  148629.000000    1.335720e+05  139520.000000  148670.000000   \n",
       "mean      335.136582    4.978935e+05    6957.338876     699.789103   \n",
       "std        58.409084    3.599353e+05    6496.586382     115.875857   \n",
       "min        96.000000    8.000000e+03       0.000000     500.000000   \n",
       "25%       360.000000    2.680000e+05    3720.000000     599.000000   \n",
       "50%       360.000000    4.180000e+05    5760.000000     699.000000   \n",
       "75%       360.000000    6.280000e+05    8520.000000     800.000000   \n",
       "max       360.000000    1.650800e+07  578580.000000     900.000000   \n",
       "\n",
       "                 LTV         Status          dtir1  \n",
       "count  133572.000000  148670.000000  124549.000000  \n",
       "mean       72.746457       0.246445      37.732932  \n",
       "std        39.967603       0.430942      10.545435  \n",
       "min         0.967478       0.000000       5.000000  \n",
       "25%        60.474860       0.000000      31.000000  \n",
       "50%        75.135870       0.000000      39.000000  \n",
       "75%        86.184211       0.000000      45.000000  \n",
       "max      7831.250000       1.000000      61.000000  "
      ]
     },
     "execution_count": 68,
     "metadata": {},
     "output_type": "execute_result"
    }
   ],
   "source": [
    "df.describe()\n"
   ]
  },
  {
   "cell_type": "markdown",
   "id": "ffe6d7dc",
   "metadata": {},
   "source": [
    "**Duplicate Records**"
   ]
  },
  {
   "cell_type": "code",
   "execution_count": 69,
   "id": "d111c288",
   "metadata": {},
   "outputs": [
    {
     "name": "stdout",
     "output_type": "stream",
     "text": [
      "15\n"
     ]
    }
   ],
   "source": [
    "print(len(df[df.duplicated() == True]))"
   ]
  },
  {
   "cell_type": "code",
   "execution_count": 70,
   "id": "77ee25a9",
   "metadata": {},
   "outputs": [
    {
     "name": "stdout",
     "output_type": "stream",
     "text": [
      "No of dup. records:  0\n"
     ]
    }
   ],
   "source": [
    "df = df.drop_duplicates()\n",
    "print('No of dup. records: ', len(df[df.duplicated() == True]))"
   ]
  },
  {
   "cell_type": "markdown",
   "id": "36f87303",
   "metadata": {},
   "source": [
    "**Missing Records Analysis**"
   ]
  },
  {
   "cell_type": "markdown",
   "id": "0e543260",
   "metadata": {},
   "source": [
    "Percentage of missing data in each column"
   ]
  },
  {
   "cell_type": "code",
   "execution_count": 71,
   "id": "656cd9f1",
   "metadata": {},
   "outputs": [
    {
     "data": {
      "text/plain": [
       "business_or_commercial     0.00\n",
       "loan_amount                0.00\n",
       "Credit_Score               0.00\n",
       "occupancy_type             0.00\n",
       "interest_only              0.00\n",
       "Status                     0.00\n",
       "term                       0.03\n",
       "Neg_ammortization          0.08\n",
       "approv_in_adv              0.61\n",
       "loan_limit                 2.30\n",
       "income                     6.56\n",
       "property_value            11.29\n",
       "LTV                       11.29\n",
       "dtir1                     19.35\n",
       "rate_of_interest          32.45\n",
       "Interest_rate_spread      32.69\n",
       "Upfront_charges           36.35\n",
       "dtype: float64"
      ]
     },
     "execution_count": 71,
     "metadata": {},
     "output_type": "execute_result"
    }
   ],
   "source": [
    "\n",
    "round(df.isna().sum()/df.count() * 100,2).sort_values()"
   ]
  },
  {
   "cell_type": "markdown",
   "id": "6345ba56",
   "metadata": {},
   "source": [
    "Fill missing values with median"
   ]
  },
  {
   "cell_type": "code",
   "execution_count": 72,
   "id": "73a5833d",
   "metadata": {},
   "outputs": [],
   "source": [
    "columns_to_fill = ['income', 'property_value', 'rate_of_interest', 'Interest_rate_spread', 'Upfront_charges','term']\n",
    "for column in columns_to_fill:\n",
    "    df[column].fillna(df[column].median(), inplace=True)"
   ]
  },
  {
   "cell_type": "markdown",
   "id": "1e8b515c",
   "metadata": {},
   "source": [
    "Verify - exclude status"
   ]
  },
  {
   "cell_type": "code",
   "execution_count": 73,
   "id": "c12b0564",
   "metadata": {},
   "outputs": [
    {
     "name": "stdout",
     "output_type": "stream",
     "text": [
      "Column 'Credit_Score' contains 0 zeros.\n",
      "Column 'Interest_rate_spread' contains 9 zeros.\n",
      "Column 'LTV' contains 0 zeros.\n",
      "Column 'Neg_ammortization' contains 0 zeros.\n",
      "Column 'Upfront_charges' contains 20770 zeros.\n",
      "Column 'approv_in_adv' contains 0 zeros.\n",
      "Column 'business_or_commercial' contains 0 zeros.\n",
      "Column 'dtir1' contains 0 zeros.\n",
      "Column 'income' contains 1255 zeros.\n",
      "Column 'interest_only' contains 0 zeros.\n",
      "Column 'loan_amount' contains 0 zeros.\n",
      "Column 'loan_limit' contains 0 zeros.\n",
      "Column 'occupancy_type' contains 0 zeros.\n",
      "Column 'property_value' contains 0 zeros.\n",
      "Column 'rate_of_interest' contains 1 zeros.\n",
      "Column 'term' contains 0 zeros.\n"
     ]
    }
   ],
   "source": [
    "columns_to_check = df.columns.difference(['Status'])\n",
    "for column in columns_to_check:\n",
    "    zero_count = (df[column] == 0).sum()  \n",
    "    print(f\"Column '{column}' contains {zero_count} zeros.\")"
   ]
  },
  {
   "cell_type": "markdown",
   "id": "d3af0e5b",
   "metadata": {},
   "source": [
    "LTV and DTIR for new values"
   ]
  },
  {
   "cell_type": "code",
   "execution_count": 74,
   "id": "dbfc2af4",
   "metadata": {},
   "outputs": [],
   "source": [
    "df['LTV'] = df['LTV'].fillna(df['loan_amount'] / df['property_value'])\n",
    "df['dtir1'] = df['dtir1'].fillna(df['loan_amount'] / df['income'])"
   ]
  },
  {
   "cell_type": "code",
   "execution_count": 75,
   "id": "584f8ace",
   "metadata": {},
   "outputs": [
    {
     "data": {
      "text/html": [
       "<div>\n",
       "<style scoped>\n",
       "    .dataframe tbody tr th:only-of-type {\n",
       "        vertical-align: middle;\n",
       "    }\n",
       "\n",
       "    .dataframe tbody tr th {\n",
       "        vertical-align: top;\n",
       "    }\n",
       "\n",
       "    .dataframe thead th {\n",
       "        text-align: right;\n",
       "    }\n",
       "</style>\n",
       "<table border=\"1\" class=\"dataframe\">\n",
       "  <thead>\n",
       "    <tr style=\"text-align: right;\">\n",
       "      <th></th>\n",
       "      <th>loan_amount</th>\n",
       "      <th>rate_of_interest</th>\n",
       "      <th>Interest_rate_spread</th>\n",
       "      <th>Upfront_charges</th>\n",
       "      <th>term</th>\n",
       "      <th>property_value</th>\n",
       "      <th>income</th>\n",
       "      <th>Credit_Score</th>\n",
       "      <th>LTV</th>\n",
       "      <th>Status</th>\n",
       "      <th>dtir1</th>\n",
       "    </tr>\n",
       "  </thead>\n",
       "  <tbody>\n",
       "    <tr>\n",
       "      <th>count</th>\n",
       "      <td>1.486550e+05</td>\n",
       "      <td>148655.000000</td>\n",
       "      <td>148655.000000</td>\n",
       "      <td>148655.000000</td>\n",
       "      <td>148655.000000</td>\n",
       "      <td>1.486550e+05</td>\n",
       "      <td>148655.000000</td>\n",
       "      <td>148655.000000</td>\n",
       "      <td>148655.000000</td>\n",
       "      <td>148655.000000</td>\n",
       "      <td>1.486550e+05</td>\n",
       "    </tr>\n",
       "    <tr>\n",
       "      <th>mean</th>\n",
       "      <td>3.311259e+05</td>\n",
       "      <td>4.031883</td>\n",
       "      <td>0.429028</td>\n",
       "      <td>3057.444431</td>\n",
       "      <td>335.140930</td>\n",
       "      <td>4.897901e+05</td>\n",
       "      <td>6884.044129</td>\n",
       "      <td>699.790495</td>\n",
       "      <td>65.444246</td>\n",
       "      <td>0.246369</td>\n",
       "      <td>inf</td>\n",
       "    </tr>\n",
       "    <tr>\n",
       "      <th>std</th>\n",
       "      <td>1.839140e+05</td>\n",
       "      <td>0.488372</td>\n",
       "      <td>0.445929</td>\n",
       "      <td>2798.110295</td>\n",
       "      <td>58.404901</td>\n",
       "      <td>3.420370e+05</td>\n",
       "      <td>6300.213226</td>\n",
       "      <td>115.875534</td>\n",
       "      <td>43.674443</td>\n",
       "      <td>0.430897</td>\n",
       "      <td>NaN</td>\n",
       "    </tr>\n",
       "    <tr>\n",
       "      <th>min</th>\n",
       "      <td>1.650000e+04</td>\n",
       "      <td>0.000000</td>\n",
       "      <td>-3.638000</td>\n",
       "      <td>0.000000</td>\n",
       "      <td>96.000000</td>\n",
       "      <td>8.000000e+03</td>\n",
       "      <td>0.000000</td>\n",
       "      <td>500.000000</td>\n",
       "      <td>0.039474</td>\n",
       "      <td>0.000000</td>\n",
       "      <td>1.961806e+00</td>\n",
       "    </tr>\n",
       "    <tr>\n",
       "      <th>25%</th>\n",
       "      <td>1.965000e+05</td>\n",
       "      <td>3.750000</td>\n",
       "      <td>0.181500</td>\n",
       "      <td>1250.000000</td>\n",
       "      <td>360.000000</td>\n",
       "      <td>2.880000e+05</td>\n",
       "      <td>3840.000000</td>\n",
       "      <td>599.000000</td>\n",
       "      <td>54.590395</td>\n",
       "      <td>0.000000</td>\n",
       "      <td>3.200000e+01</td>\n",
       "    </tr>\n",
       "    <tr>\n",
       "      <th>50%</th>\n",
       "      <td>2.965000e+05</td>\n",
       "      <td>3.990000</td>\n",
       "      <td>0.390400</td>\n",
       "      <td>2596.450000</td>\n",
       "      <td>360.000000</td>\n",
       "      <td>4.180000e+05</td>\n",
       "      <td>5760.000000</td>\n",
       "      <td>699.000000</td>\n",
       "      <td>73.026316</td>\n",
       "      <td>0.000000</td>\n",
       "      <td>4.000000e+01</td>\n",
       "    </tr>\n",
       "    <tr>\n",
       "      <th>75%</th>\n",
       "      <td>4.365000e+05</td>\n",
       "      <td>4.250000</td>\n",
       "      <td>0.620050</td>\n",
       "      <td>3890.000000</td>\n",
       "      <td>360.000000</td>\n",
       "      <td>5.980000e+05</td>\n",
       "      <td>8280.000000</td>\n",
       "      <td>800.000000</td>\n",
       "      <td>84.722222</td>\n",
       "      <td>0.000000</td>\n",
       "      <td>4.700000e+01</td>\n",
       "    </tr>\n",
       "    <tr>\n",
       "      <th>max</th>\n",
       "      <td>3.576500e+06</td>\n",
       "      <td>8.000000</td>\n",
       "      <td>3.357000</td>\n",
       "      <td>60000.000000</td>\n",
       "      <td>360.000000</td>\n",
       "      <td>1.650800e+07</td>\n",
       "      <td>578580.000000</td>\n",
       "      <td>900.000000</td>\n",
       "      <td>7831.250000</td>\n",
       "      <td>1.000000</td>\n",
       "      <td>inf</td>\n",
       "    </tr>\n",
       "  </tbody>\n",
       "</table>\n",
       "</div>"
      ],
      "text/plain": [
       "        loan_amount  rate_of_interest  Interest_rate_spread  Upfront_charges  \\\n",
       "count  1.486550e+05     148655.000000         148655.000000    148655.000000   \n",
       "mean   3.311259e+05          4.031883              0.429028      3057.444431   \n",
       "std    1.839140e+05          0.488372              0.445929      2798.110295   \n",
       "min    1.650000e+04          0.000000             -3.638000         0.000000   \n",
       "25%    1.965000e+05          3.750000              0.181500      1250.000000   \n",
       "50%    2.965000e+05          3.990000              0.390400      2596.450000   \n",
       "75%    4.365000e+05          4.250000              0.620050      3890.000000   \n",
       "max    3.576500e+06          8.000000              3.357000     60000.000000   \n",
       "\n",
       "                term  property_value         income   Credit_Score  \\\n",
       "count  148655.000000    1.486550e+05  148655.000000  148655.000000   \n",
       "mean      335.140930    4.897901e+05    6884.044129     699.790495   \n",
       "std        58.404901    3.420370e+05    6300.213226     115.875534   \n",
       "min        96.000000    8.000000e+03       0.000000     500.000000   \n",
       "25%       360.000000    2.880000e+05    3840.000000     599.000000   \n",
       "50%       360.000000    4.180000e+05    5760.000000     699.000000   \n",
       "75%       360.000000    5.980000e+05    8280.000000     800.000000   \n",
       "max       360.000000    1.650800e+07  578580.000000     900.000000   \n",
       "\n",
       "                 LTV         Status         dtir1  \n",
       "count  148655.000000  148655.000000  1.486550e+05  \n",
       "mean       65.444246       0.246369           inf  \n",
       "std        43.674443       0.430897           NaN  \n",
       "min         0.039474       0.000000  1.961806e+00  \n",
       "25%        54.590395       0.000000  3.200000e+01  \n",
       "50%        73.026316       0.000000  4.000000e+01  \n",
       "75%        84.722222       0.000000  4.700000e+01  \n",
       "max      7831.250000       1.000000           inf  "
      ]
     },
     "execution_count": 75,
     "metadata": {},
     "output_type": "execute_result"
    }
   ],
   "source": [
    "df.describe()"
   ]
  },
  {
   "cell_type": "markdown",
   "id": "d8082350",
   "metadata": {},
   "source": [
    "**Mapping values**"
   ]
  },
  {
   "cell_type": "code",
   "execution_count": 76,
   "id": "023a6301",
   "metadata": {},
   "outputs": [],
   "source": [
    "df['loan_limit'] = df['loan_limit'].map({'cf': 1, 'ncf': 0})\n",
    "\n",
    "df['approv_in_adv'] = df['approv_in_adv'].map({'nopre': 0, 'pre': 1})\n",
    "\n",
    "\n",
    "df['business_or_commercial'] = df['business_or_commercial'].map({'nob/c': 0, 'b/c': 1})\n",
    "\n",
    "df['Neg_ammortization'] = df['Neg_ammortization'].map({'not_neg':0, 'neg_amm':1})\n",
    "\n",
    "df['interest_only'] = df['interest_only'].map({'not_int':0, 'int_only':1})\n",
    "\n",
    "df['occupancy_type'] = df['occupancy_type'].map({'pr': 0, 'sr': 0, 'ir': 1})"
   ]
  },
  {
   "cell_type": "markdown",
   "id": "71e097a9",
   "metadata": {},
   "source": [
    "**Feature Correlation**"
   ]
  },
  {
   "cell_type": "code",
   "execution_count": 77,
   "id": "49d2db1e",
   "metadata": {},
   "outputs": [
    {
     "name": "stdout",
     "output_type": "stream",
     "text": [
      "                        loan_limit  approv_in_adv  business_or_commercial  \\\n",
      "loan_limit                1.000000      -0.096434                0.022561   \n",
      "approv_in_adv            -0.096434       1.000000                0.010138   \n",
      "business_or_commercial    0.022561       0.010138                1.000000   \n",
      "loan_amount              -0.281012      -0.030102               -0.162476   \n",
      "rate_of_interest         -0.024012       0.053385               -0.046495   \n",
      "Interest_rate_spread      0.031190       0.058256                0.317786   \n",
      "Upfront_charges          -0.030503       0.020003               -0.130440   \n",
      "term                     -0.019397       0.024201                0.093308   \n",
      "Neg_ammortization        -0.008058      -0.078270                0.014391   \n",
      "interest_only             0.031094      -0.074572               -0.007074   \n",
      "property_value           -0.189347      -0.049311               -0.204149   \n",
      "occupancy_type            0.015322      -0.002025               -0.091634   \n",
      "income                   -0.140003      -0.011654               -0.138304   \n",
      "Credit_Score             -0.000429      -0.001191               -0.000785   \n",
      "LTV                      -0.003291       0.035237                0.106883   \n",
      "Status                   -0.054320      -0.037326                0.092476   \n",
      "dtir1                    -0.062397      -0.010766                0.110491   \n",
      "\n",
      "                        loan_amount  rate_of_interest  Interest_rate_spread  \\\n",
      "loan_limit                -0.281012         -0.024012              0.031190   \n",
      "approv_in_adv             -0.030102          0.053385              0.058256   \n",
      "business_or_commercial    -0.162476         -0.046495              0.317786   \n",
      "loan_amount                1.000000         -0.122837             -0.309292   \n",
      "rate_of_interest          -0.122837          1.000000              0.615149   \n",
      "Interest_rate_spread      -0.309292          0.615149              1.000000   \n",
      "Upfront_charges            0.057445         -0.071067              0.035797   \n",
      "term                       0.174370          0.182863             -0.137145   \n",
      "Neg_ammortization         -0.027461          0.126933              0.014470   \n",
      "interest_only              0.002679         -0.008523              0.004170   \n",
      "property_value             0.686247         -0.102776             -0.286715   \n",
      "occupancy_type            -0.020777          0.205529              0.147101   \n",
      "income                     0.440701         -0.014346             -0.099620   \n",
      "Credit_Score               0.004416         -0.001342             -0.001704   \n",
      "LTV                        0.033890          0.012841              0.046518   \n",
      "Status                    -0.036755         -0.046730             -0.049528   \n",
      "dtir1                      0.143717         -0.088101             -0.067252   \n",
      "\n",
      "                        Upfront_charges      term  Neg_ammortization  \\\n",
      "loan_limit                    -0.030503 -0.019397          -0.008058   \n",
      "approv_in_adv                  0.020003  0.024201          -0.078270   \n",
      "business_or_commercial        -0.130440  0.093308           0.014391   \n",
      "loan_amount                    0.057445  0.174370          -0.027461   \n",
      "rate_of_interest              -0.071067  0.182863           0.126933   \n",
      "Interest_rate_spread           0.035797 -0.137145           0.014470   \n",
      "Upfront_charges                1.000000 -0.046536          -0.032072   \n",
      "term                          -0.046536  1.000000          -0.021314   \n",
      "Neg_ammortization             -0.032072 -0.021314           1.000000   \n",
      "interest_only                 -0.004797  0.011839           0.018134   \n",
      "property_value                 0.050685  0.043063          -0.029782   \n",
      "occupancy_type                 0.035732  0.003658           0.027529   \n",
      "income                         0.027094 -0.057366          -0.001680   \n",
      "Credit_Score                  -0.001693 -0.003162           0.000989   \n",
      "LTV                            0.000265  0.090899          -0.028344   \n",
      "Status                        -0.095079 -0.000282           0.156005   \n",
      "dtir1                         -0.055334  0.116624           0.010712   \n",
      "\n",
      "                        interest_only  property_value  occupancy_type  \\\n",
      "loan_limit                   0.031094       -0.189347        0.015322   \n",
      "approv_in_adv               -0.074572       -0.049311       -0.002025   \n",
      "business_or_commercial      -0.007074       -0.204149       -0.091634   \n",
      "loan_amount                  0.002679        0.686247       -0.020777   \n",
      "rate_of_interest            -0.008523       -0.102776        0.205529   \n",
      "Interest_rate_spread         0.004170       -0.286715        0.147101   \n",
      "Upfront_charges             -0.004797        0.050685        0.035732   \n",
      "term                         0.011839        0.043063        0.003658   \n",
      "Neg_ammortization            0.018134       -0.029782        0.027529   \n",
      "interest_only                1.000000        0.050721       -0.011213   \n",
      "property_value               0.050721        1.000000        0.027022   \n",
      "occupancy_type              -0.011213        0.027022        1.000000   \n",
      "income                       0.013477        0.389434        0.142198   \n",
      "Credit_Score                 0.000159        0.002152       -0.005900   \n",
      "LTV                         -0.028492       -0.151031       -0.046795   \n",
      "Status                       0.013923       -0.080867        0.028294   \n",
      "dtir1                       -0.004919       -0.007126       -0.033438   \n",
      "\n",
      "                          income  Credit_Score       LTV    Status     dtir1  \n",
      "loan_limit             -0.140003     -0.000429 -0.003291 -0.054320 -0.062397  \n",
      "approv_in_adv          -0.011654     -0.001191  0.035237 -0.037326 -0.010766  \n",
      "business_or_commercial -0.138304     -0.000785  0.106883  0.092476  0.110491  \n",
      "loan_amount             0.440701      0.004416  0.033890 -0.036755  0.143717  \n",
      "rate_of_interest       -0.014346     -0.001342  0.012841 -0.046730 -0.088101  \n",
      "Interest_rate_spread   -0.099620     -0.001704  0.046518 -0.049528 -0.067252  \n",
      "Upfront_charges         0.027094     -0.001693  0.000265 -0.095079 -0.055334  \n",
      "term                   -0.057366     -0.003162  0.090899 -0.000282  0.116624  \n",
      "Neg_ammortization      -0.001680      0.000989 -0.028344  0.156005  0.010712  \n",
      "interest_only           0.013477      0.000159 -0.028492  0.013923 -0.004919  \n",
      "property_value          0.389434      0.002152 -0.151031 -0.080867 -0.007126  \n",
      "occupancy_type          0.142198     -0.005900 -0.046795  0.028294 -0.033438  \n",
      "income                  1.000000      0.000896 -0.018641 -0.060519 -0.193367  \n",
      "Credit_Score            0.000896      1.000000 -0.005459  0.004026 -0.001692  \n",
      "LTV                    -0.018641     -0.005459  1.000000 -0.265075 -0.058227  \n",
      "Status                 -0.060519      0.004026 -0.265075  1.000000  0.167652  \n",
      "dtir1                  -0.193367     -0.001692 -0.058227  0.167652  1.000000  \n"
     ]
    },
    {
     "data": {
      "image/png": "[encoded data removed]",
      "text/plain": [
       "<Figure size 1000x800 with 2 Axes>"
      ]
     },
     "metadata": {},
     "output_type": "display_data"
    },
    {
     "name": "stdout",
     "output_type": "stream",
     "text": [
      "Status                    1.000000\n",
      "dtir1                     0.167652\n",
      "Neg_ammortization         0.156005\n",
      "business_or_commercial    0.092476\n",
      "occupancy_type            0.028294\n",
      "interest_only             0.013923\n",
      "Credit_Score              0.004026\n",
      "term                     -0.000282\n",
      "loan_amount              -0.036755\n",
      "approv_in_adv            -0.037326\n",
      "rate_of_interest         -0.046730\n",
      "Interest_rate_spread     -0.049528\n",
      "loan_limit               -0.054320\n",
      "income                   -0.060519\n",
      "property_value           -0.080867\n",
      "Upfront_charges          -0.095079\n",
      "LTV                      -0.265075\n",
      "Name: Status, dtype: float64\n"
     ]
    }
   ],
   "source": [
    "correlation_matrix = df.corr()\n",
    "print(correlation_matrix)\n",
    "plt.figure(figsize=(10, 8))\n",
    "sns.heatmap(correlation_matrix, annot=True, cmap='coolwarm', fmt=\".2f\", linewidths=0.5)\n",
    "plt.title('Correlation Matrix of Features')\n",
    "plt.show()\n",
    "target_corr = df.corr()['Status'].sort_values(ascending=False)\n",
    "print(target_corr)"
   ]
  },
  {
   "cell_type": "code",
   "execution_count": 78,
   "id": "de691ed2",
   "metadata": {},
   "outputs": [],
   "source": [
    "df.drop(columns=['Upfront_charges', 'Interest_rate_spread', 'Neg_ammortization', 'business_or_commercial', 'approv_in_adv', 'loan_limit', 'interest_only', 'occupancy_type'], inplace=True)\n"
   ]
  },
  {
   "cell_type": "code",
   "execution_count": 79,
   "id": "c7bd0c50",
   "metadata": {},
   "outputs": [
    {
     "name": "stdout",
     "output_type": "stream",
     "text": [
      "0    112031\n",
      "1     36624\n",
      "Name: Status, dtype: int64\n"
     ]
    }
   ],
   "source": [
    "print(df['Status'].value_counts())"
   ]
  },
  {
   "cell_type": "code",
   "execution_count": 80,
   "id": "775da236",
   "metadata": {},
   "outputs": [],
   "source": [
    "X = df.drop(columns=['Status'])\n",
    "y = df['Status']"
   ]
  },
  {
   "cell_type": "code",
   "execution_count": 81,
   "id": "17d6d48e",
   "metadata": {},
   "outputs": [
    {
     "name": "stdout",
     "output_type": "stream",
     "text": [
      "loan_amount           int64\n",
      "rate_of_interest    float64\n",
      "term                float64\n",
      "property_value      float64\n",
      "income              float64\n",
      "Credit_Score          int64\n",
      "LTV                 float64\n",
      "dtir1               float64\n",
      "dtype: object\n"
     ]
    }
   ],
   "source": [
    "print(X.dtypes)"
   ]
  },
  {
   "cell_type": "code",
   "execution_count": 83,
   "id": "4ad585ba",
   "metadata": {},
   "outputs": [],
   "source": [
    "# df.hist(figsize=(10, 12))"
   ]
  },
  {
   "cell_type": "code",
   "execution_count": 84,
   "id": "a23dd94a",
   "metadata": {},
   "outputs": [
    {
     "data": {
      "image/png": "[encoded data removed]",
      "text/plain": [
       "<Figure size 600x400 with 1 Axes>"
      ]
     },
     "metadata": {},
     "output_type": "display_data"
    }
   ],
   "source": [
    "plt.figure(figsize=(6, 4))\n",
    "plt.hist(df['Status'], bins=2, edgecolor='black')\n",
    "plt.title('Distribution of the Status Variable')\n",
    "plt.xlabel('Status')\n",
    "plt.ylabel('Frequency')\n",
    "plt.xticks([0, 1], ['Fully Paid', 'Default'])\n",
    "plt.show()\n"
   ]
  },
  {
   "cell_type": "code",
   "execution_count": null,
   "id": "e3794e0e",
   "metadata": {},
   "outputs": [],
   "source": [
    "df.to_csv(\"Loan_Default_Cleaned.csv\", index=False)"
   ]
  }
 ],
 "metadata": {
  "kernelspec": {
   "display_name": "Python 3 (ipykernel)",
   "language": "python",
   "name": "python3"
  },
  "language_info": {
   "codemirror_mode": {
    "name": "ipython",
    "version": 3
   },
   "file_extension": ".py",
   "mimetype": "text/x-python",
   "name": "python",
   "nbconvert_exporter": "python",
   "pygments_lexer": "ipython3",
   "version": "3.11.4"
  }
 },
 "nbformat": 4,
 "nbformat_minor": 5
}
